{
 "cells": [
  {
   "cell_type": "markdown",
   "id": "70d77223-6f80-4053-ad57-29071eb7c291",
   "metadata": {},
   "source": [
    "# Testing development of annual Sentinel-2 Geomedian\n",
    "\n",
    "* [Seasonal geomedian report](https://geoscienceau-my.sharepoint.com/:w:/g/personal/james_miller_ga_gov_au/EVFJCVoYGdRPlpG_MCh95DIB3n5Earq-n9766FWj4lFBZw?e=ihzQer)\n",
    "* [Cloud masking report](https://geoscienceau.sharepoint.com/:w:/r/sites/DEA/Shared%20Documents/Projects%20%26%20Programs/DEA%20Land%20Cover/Cloud%20Masking%20Validation/Cloud%20Masking%20Technical%20Report%20-%20Public.docx?d=w1c5e6e3d0f664d35ada2eba5b7cce187&csf=1&web=1&e=ieSD8S)\n",
    "* [DE Africa odc-plugin](https://github.com/opendatacube/odc-stats/blob/37e41140515ea1a5f7033b2144b22d8f43a231f6/odc/stats/plugins/gm.py#L131), used this mask filter: `[(\"opening\", 2), (\"dilation\", 5)]`\n",
    "* [odc-algo geomedian functions](https://github.com/opendatacube/odc-algo/blob/main/odc/algo/_geomedian.py#L337)"
   ]
  },
  {
   "cell_type": "markdown",
   "id": "f3cd3712-9913-4565-9b00-d3eaaf0fe1f9",
   "metadata": {},
   "source": [
    "## Import libraries"
   ]
  },
  {
   "cell_type": "code",
   "execution_count": null,
   "id": "d4644801-21a5-461e-8d8d-6fd7ffe6b2df",
   "metadata": {},
   "outputs": [],
   "source": [
    "import os\n",
    "import warnings\n",
    "import xarray as xr\n",
    "import numpy as np\n",
    "from odc.geo.xr import assign_crs\n",
    "import matplotlib.pyplot as plt\n",
    "\n",
    "import sys\n",
    "sys.path.insert(1, '/home/jovyan/git/dea-notebooks/Tools/')\n",
    "from dea_tools.plotting import rgb\n",
    "\n",
    "warnings.filterwarnings(\"ignore\")"
   ]
  },
  {
   "cell_type": "markdown",
   "id": "efc89342-cd9a-4fef-8951-5fec1dd118d3",
   "metadata": {},
   "source": [
    "## Analysis Parameters"
   ]
  },
  {
   "cell_type": "code",
   "execution_count": null,
   "id": "870fdcaa-7010-4e0b-88d6-6e8583e22683",
   "metadata": {},
   "outputs": [],
   "source": [
    "# region_code = 'x12y19' # Perth City\n",
    "# region_code = 'x43y14' # se aus forests Alps.\n",
    "# region_code = 'x39y09' # West tassie\n",
    "# region_code = 'x33y26' # Central Aus with salt lakes\n",
    "# region_code = 'x31y43' # Tropical NT\n",
    "# region_code = 'x19y18' # Esperance crops and sand dunes\n",
    "# region_code = 'x42y38' # Qld tropical forests\n",
    "# region_code = 'x39y13' # Melbourne city and bay+crops\n",
    "# region_code = 'x41y12' # Complex coastal in Vic.\n",
    "\n",
    "region_code = 'x42y38'\n",
    "morph_params = '3_6'\n",
    "time='2022'\n"
   ]
  },
  {
   "cell_type": "markdown",
   "id": "dce83864-8334-4795-889c-88152831146a",
   "metadata": {},
   "source": [
    "## Load tile"
   ]
  },
  {
   "cell_type": "code",
   "execution_count": null,
   "id": "ad67f480-726e-4624-85dd-3940ad4568f2",
   "metadata": {},
   "outputs": [],
   "source": [
    "s2cloudless = assign_crs(xr.open_dataset(f'/gdata1/projects/s2_gm/results/tiles/{morph_params}/s2_gm_annual_s2cloudless_{time}_{region_code}.nc'), crs='EPSG:3577')\n",
    "fmask = assign_crs(xr.open_dataset(f'/gdata1/projects/s2_gm/results/tiles/{morph_params}/s2_gm_annual_fmask_{time}_{region_code}.nc'), crs='EPSG:3577')"
   ]
  },
  {
   "cell_type": "markdown",
   "id": "35cba3f7-86af-40a9-a5de-b0d63615c0fa",
   "metadata": {},
   "source": [
    "## Check for NaNs in outputs"
   ]
  },
  {
   "cell_type": "code",
   "execution_count": null,
   "id": "a70dabf3-cd9c-4579-b736-388b85e53402",
   "metadata": {},
   "outputs": [],
   "source": [
    "for b in ['nbart_red', 'nbart_green', 'nbart_blue']:\n",
    "    num_of_nans = np.sum(np.isnan(fmask[b]))\n",
    "    if num_of_nans>0:\n",
    "        print(f'{num_of_nans.item()} NaNs present in fmask {b}')\n",
    "    else:\n",
    "        print(f'fmask {b} is clean')\n",
    "\n",
    "for b in ['nbart_red', 'nbart_green', 'nbart_blue']:\n",
    "    num_of_nans = np.sum(np.isnan(s2cloudless[b]))\n",
    "    if num_of_nans>0:\n",
    "        print(f'{num_of_nans.item()} NaNs present in s2Cloudless {b}')\n",
    "    else:\n",
    "        print(f's2Cloudless {b} is clean')"
   ]
  },
  {
   "cell_type": "markdown",
   "id": "2004eb35-a629-4aaf-8a6c-eb91d014586f",
   "metadata": {},
   "source": [
    "## True colour and count plots"
   ]
  },
  {
   "cell_type": "code",
   "execution_count": null,
   "id": "1caa34ba-f322-46fc-a266-5464f3627e22",
   "metadata": {},
   "outputs": [],
   "source": [
    "mean_clear_fmask = fmask['count'].mean().item()\n",
    "mean_clear_s2cloudless = s2cloudless['count'].mean().item()\n",
    "\n",
    "min_clear_fmask = fmask['count'].min().item()\n",
    "min_clear_s2cloudless = s2cloudless['count'].min().item()\n",
    "\n",
    "max_clear_fmask = fmask['count'].max().item()\n",
    "max_clear_s2cloudless = s2cloudless['count'].max().item()\n",
    "\n",
    "print(f'FMASK (min, mean, max) = {min_clear_fmask}, {mean_clear_fmask:.0f}, {max_clear_fmask}')\n",
    "print(f'S2Cloudless (min, mean, max) = {min_clear_s2cloudless}, {mean_clear_s2cloudless:.0f}, {max_clear_s2cloudless}')"
   ]
  },
  {
   "cell_type": "markdown",
   "id": "d02e8db2-81bd-452f-adc7-3b4a186b7b27",
   "metadata": {},
   "source": [
    "### Replace NaNs with vibrant pink colour"
   ]
  },
  {
   "cell_type": "code",
   "execution_count": null,
   "id": "182ea0e0-b356-4ffb-b7e1-5f70c2c4da08",
   "metadata": {},
   "outputs": [],
   "source": [
    "# # Create a boolean mask where NaNs. Can do this on a single layer \n",
    "#  because we masked for contiguity\n",
    "nan_mask = np.isnan(fmask['nbart_red'])\n",
    "\n",
    "# Loop over each band and assign the pink value where the pixel is NaN\n",
    "#  10000 blue, 10000 red, 0 for green.\n",
    "for var in fmask.data_vars:\n",
    "    if var=='nbart_red':\n",
    "        fmask[var] = xr.where(nan_mask, 10000, fmask[var])\n",
    "    if var=='nbart_blue':\n",
    "        fmask[var] = xr.where(nan_mask, 10000, fmask[var])\n",
    "    if var=='nbart_green':\n",
    "        fmask[var] = xr.where(nan_mask, 0, fmask[var])\n",
    "    \n",
    "# Same again but now for S2Cloudless\n",
    "nan_mask = np.isnan(s2cloudless['nbart_red'])\n",
    "\n",
    "for var in s2cloudless.data_vars:\n",
    "    if var=='nbart_red':\n",
    "        s2cloudless[var] = xr.where(nan_mask, 10000, s2cloudless[var])\n",
    "    if var=='nbart_blue':\n",
    "        s2cloudless[var] = xr.where(nan_mask, 10000, s2cloudless[var])\n",
    "    if var=='nbart_green':\n",
    "        s2cloudless[var] = xr.where(nan_mask, 0, s2cloudless[var])"
   ]
  },
  {
   "cell_type": "markdown",
   "id": "40d727c5-8ae8-4b8f-b30d-ab1a457ab229",
   "metadata": {},
   "source": [
    "### Plot"
   ]
  },
  {
   "cell_type": "code",
   "execution_count": null,
   "id": "c95c2167-0154-494a-9c59-735dcab16ce9",
   "metadata": {},
   "outputs": [],
   "source": [
    "fig,ax = plt.subplots(2,2, figsize=(15,12), layout='constrained')\n",
    "vmin, vmax=10, 90\n",
    "\n",
    "#--------fmask------------------------------\n",
    "fmask[['nbart_red', 'nbart_green', 'nbart_blue']].to_array().plot.imshow(robust=True, ax=ax[0,0], add_labels=False);\n",
    "fmask['count'].plot.imshow(vmin=vmin, vmax=vmax, cmap='magma', ax=ax[0,1], add_labels=False);\n",
    "\n",
    "ax[0,0].set_title(f'fmask, morph-params={morph_params}')\n",
    "ax[0,1].set_title(f'fmask, clear count. Mean={mean_clear_fmask:.1f}')\n",
    "\n",
    "ax[0,0].set_yticklabels([])\n",
    "ax[0,0].set_xticklabels([])\n",
    "ax[0,1].set_yticklabels([])\n",
    "ax[0,1].set_xticklabels([]);\n",
    "\n",
    "#--------S2cloudless------------------------------\n",
    "s2cloudless[['nbart_red', 'nbart_green', 'nbart_blue']].to_array().plot.imshow(robust=True, ax=ax[1,0], add_labels=False);\n",
    "s2cloudless['count'].plot.imshow(vmin=vmin, vmax=vmax, cmap='magma', ax=ax[1,1], add_labels=False);\n",
    "\n",
    "ax[1,0].set_title(f's2cloudless, default settings')\n",
    "ax[1,1].set_title(f's2cloudless, clear count. Mean={mean_clear_s2cloudless:.1f}')\n",
    "\n",
    "ax[1,0].set_yticklabels([])\n",
    "ax[1,0].set_xticklabels([])\n",
    "ax[1,1].set_yticklabels([])\n",
    "ax[1,1].set_xticklabels([]);\n",
    "\n",
    "plt.savefig(f'/gdata1/projects/s2_gm/results/processed_figs/s2_gm_annual_{morph_params}_{time}_{region_code}.png', bbox_inches='tight', dpi=300);"
   ]
  },
  {
   "cell_type": "markdown",
   "id": "b7cd2179-fb6a-4d25-b1b9-b48e56d69b14",
   "metadata": {},
   "source": [
    "## Interactive plots"
   ]
  },
  {
   "cell_type": "code",
   "execution_count": null,
   "id": "cfccdf30-30a6-48ea-ac05-e78832c3291b",
   "metadata": {},
   "outputs": [],
   "source": [
    "# vmin, vmax=10, 90\n",
    "\n",
    "# s2cloudless['count'].odc.explore(vmin=vmin, vmax=vmax, cmap='magma',\n",
    "#     tiles = 'https://server.arcgisonline.com/ArcGIS/rest/services/World_Imagery/MapServer/tile/{z}/{y}/{x}',\n",
    "#     attr = 'Esri',\n",
    "#     name = 'Esri Satellite',\n",
    "# )\n",
    "\n",
    "vmin, vmax=10, 90\n",
    "fmask['count'].odc.explore(vmin=vmin, vmax=vmax, cmap='magma',\n",
    "    tiles = 'https://server.arcgisonline.com/ArcGIS/rest/services/World_Imagery/MapServer/tile/{z}/{y}/{x}',\n",
    "    attr = 'Esri',\n",
    "    name = 'Esri Satellite',\n",
    ")"
   ]
  },
  {
   "cell_type": "code",
   "execution_count": null,
   "id": "b572b153-f9d3-4236-93be-949ac2777d0b",
   "metadata": {},
   "outputs": [],
   "source": [
    "# vmin, vmax = fmask[['nbart_red', 'nbart_green', 'nbart_blue']].to_array().quantile((0.01, 0.99)).values\n",
    "\n",
    "# fmask.odc.explore(\n",
    "#     vmin=vmin,\n",
    "#     vmax=vmax,\n",
    "#     tiles = 'https://server.arcgisonline.com/ArcGIS/rest/services/World_Imagery/MapServer/tile/{z}/{y}/{x}',\n",
    "#     attr = 'Esri',\n",
    "#     name = 'Esri Satellite',\n",
    "# )\n",
    "\n",
    "vmin, vmax = s2cloudless[['nbart_red', 'nbart_green', 'nbart_blue']].to_array().quantile((0.01, 0.99)).values\n",
    "\n",
    "s2cloudless.odc.explore(\n",
    "    vmin=vmin,\n",
    "    vmax=vmax,\n",
    "    tiles = 'https://server.arcgisonline.com/ArcGIS/rest/services/World_Imagery/MapServer/tile/{z}/{y}/{x}',\n",
    "    attr = 'Esri',\n",
    "    name = 'Esri Satellite',\n",
    ")"
   ]
  },
  {
   "cell_type": "code",
   "execution_count": null,
   "id": "04b71799-cc85-4076-9285-0bd7cb649217",
   "metadata": {},
   "outputs": [],
   "source": []
  },
  {
   "cell_type": "code",
   "execution_count": null,
   "id": "483e1322-6784-4be3-b988-248df9ceabcb",
   "metadata": {},
   "outputs": [],
   "source": []
  }
 ],
 "metadata": {
  "kernelspec": {
   "display_name": "Python 3 (ipykernel)",
   "language": "python",
   "name": "python3"
  },
  "language_info": {
   "codemirror_mode": {
    "name": "ipython",
    "version": 3
   },
   "file_extension": ".py",
   "mimetype": "text/x-python",
   "name": "python",
   "nbconvert_exporter": "python",
   "pygments_lexer": "ipython3",
   "version": "3.10.15"
  }
 },
 "nbformat": 4,
 "nbformat_minor": 5
}
