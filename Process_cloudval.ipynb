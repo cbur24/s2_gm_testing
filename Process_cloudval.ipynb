{
 "cells": [
  {
   "cell_type": "markdown",
   "id": "70d77223-6f80-4053-ad57-29071eb7c291",
   "metadata": {},
   "source": [
    "# Process cloud validation datasets\n",
    "\n",
    "* Pixbox: https://zenodo.org/records/5036991\n",
    "* CloudSEN12: https://cloudsen12.github.io/\n",
    "* https://github.com/DPIRD-DMA/CloudS2Mask"
   ]
  },
  {
   "cell_type": "markdown",
   "id": "f3cd3712-9913-4565-9b00-d3eaaf0fe1f9",
   "metadata": {},
   "source": [
    "## Import libraries"
   ]
  },
  {
   "cell_type": "code",
   "execution_count": null,
   "id": "d4644801-21a5-461e-8d8d-6fd7ffe6b2df",
   "metadata": {},
   "outputs": [],
   "source": [
    "import os\n",
    "import warnings\n",
    "import xarray as xr\n",
    "import pandas as pd\n",
    "import geopandas as gpd\n",
    "from odc.geo.geom import Geometry\n",
    "\n",
    "warnings.filterwarnings(\"ignore\")"
   ]
  },
  {
   "cell_type": "markdown",
   "id": "220acf87-b31b-4597-bc4b-79fb74a664b2",
   "metadata": {},
   "source": [
    "## Open"
   ]
  },
  {
   "cell_type": "code",
   "execution_count": null,
   "id": "4802eb59-bdce-4bdc-8998-4d89dbc56748",
   "metadata": {},
   "outputs": [],
   "source": [
    "df = pd.read_csv('~/gdata1/projects/s2_gm/data/pixbox_sentinel2_cmix_20180425.csv')"
   ]
  },
  {
   "cell_type": "code",
   "execution_count": null,
   "id": "ac519740-6ba4-4d3c-bfb2-9db4b5f29392",
   "metadata": {},
   "outputs": [],
   "source": [
    "df.head(2).columns"
   ]
  },
  {
   "cell_type": "code",
   "execution_count": null,
   "id": "0ce3da20-0976-45fb-a5b5-b5955f06f428",
   "metadata": {},
   "outputs": [],
   "source": [
    "gdf = gpd.GeoDataFrame(\n",
    "    df, geometry=gpd.points_from_xy(df.LONGITUDE, df.LATITUDE), crs=\"EPSG:4326\"\n",
    ")\n",
    "gdf.to_file('~/gdata1/projects/s2_gm/data/pixbox_sentinel2_cmix_20180425.geojson')"
   ]
  },
  {
   "cell_type": "code",
   "execution_count": null,
   "id": "066d8fd6-bec8-4261-a8b9-9700a69d3d01",
   "metadata": {},
   "outputs": [],
   "source": [
    "gdf.explore()"
   ]
  },
  {
   "cell_type": "code",
   "execution_count": null,
   "id": "be8ad953-0fe5-44b7-97bb-2b380f50036c",
   "metadata": {},
   "outputs": [],
   "source": [
    "# gdf.explore(\n",
    "#         tiles = 'https://server.arcgisonline.com/ArcGIS/rest/services/World_Imagery/MapServer/tile/{z}/{y}/{x}',\n",
    "#         attr = 'Esri',\n",
    "#         name = 'Esri Satellite',\n",
    "# )"
   ]
  },
  {
   "cell_type": "code",
   "execution_count": null,
   "id": "7158ca46-df0d-44a5-bea4-29b470d08149",
   "metadata": {},
   "outputs": [],
   "source": []
  },
  {
   "cell_type": "code",
   "execution_count": null,
   "id": "8f7cc29f-d1d1-4b79-9196-810d80b17a08",
   "metadata": {},
   "outputs": [],
   "source": []
  }
 ],
 "metadata": {
  "kernelspec": {
   "display_name": "Python 3 (ipykernel)",
   "language": "python",
   "name": "python3"
  },
  "language_info": {
   "codemirror_mode": {
    "name": "ipython",
    "version": 3
   },
   "file_extension": ".py",
   "mimetype": "text/x-python",
   "name": "python",
   "nbconvert_exporter": "python",
   "pygments_lexer": "ipython3",
   "version": "3.10.15"
  }
 },
 "nbformat": 4,
 "nbformat_minor": 5
}
