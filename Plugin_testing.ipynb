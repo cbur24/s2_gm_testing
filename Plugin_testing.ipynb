{
 "cells": [
  {
   "cell_type": "markdown",
   "id": "0c2dc7f8-8b93-4468-b648-86461e3b85d3",
   "metadata": {},
   "source": [
    "# Annual Sentinel-2 Geomedian run with odc-stats\n",
    "\n",
    "Useful links:\n",
    "* [odc-stats](https://github.com/opendatacube/odc-stats)\n",
    "* [crop-mask plugin](https://github.com/digitalearthafrica/crop-mask/blob/main/production/cm_tools/cm_tools/gm_ml_pred.py)\n",
    "* [odc-algo geomedians](https://github.com/opendatacube/odc-algo/blob/main/odc/algo/_geomedian.py#L337)\n",
    "* [example geomedian config files](https://github.com/GeoscienceAustralia/dea-config/tree/09fa937a9c79e3505e85d2364a30bc002ca0c5f3/dev/services/odc-stats/geomedian)"
   ]
  },
  {
   "cell_type": "code",
   "execution_count": 11,
   "id": "2e5510ac-a4cb-47db-b58d-534e4ae98307",
   "metadata": {},
   "outputs": [
    {
     "name": "stdout",
     "output_type": "stream",
     "text": [
      "Processing ./s2_gm_tools\n",
      "  Preparing metadata (setup.py) ... \u001b[?25ldone\n",
      "\u001b[?25hBuilding wheels for collected packages: s2-gm-tools\n",
      "  Building wheel for s2-gm-tools (setup.py) ... \u001b[?25ldone\n",
      "\u001b[?25h  Created wheel for s2-gm-tools: filename=s2_gm_tools-1.0.0-py3-none-any.whl size=4609 sha256=89a382540d394e42e075c5c499e834f9ab6f7b22c9089497ac7239aaa32d2e8b\n",
      "  Stored in directory: /tmp/pip-ephem-wheel-cache-4cenrhb2/wheels/4e/ba/0e/f78ae9c2f6d8472eaed9090aa95acc9d2252f1e66a22e9b339\n",
      "Successfully built s2-gm-tools\n",
      "Installing collected packages: s2-gm-tools\n",
      "Successfully installed s2-gm-tools-1.0.0\n"
     ]
    }
   ],
   "source": [
    "# !pip uninstall s2_gm_tools -y\n",
    "!pip install s2_gm_tools/"
   ]
  },
  {
   "cell_type": "code",
   "execution_count": 1,
   "id": "fcb8abd6-384e-4c95-81a5-09c7df86f80b",
   "metadata": {},
   "outputs": [],
   "source": [
    "import os\n",
    "import json\n",
    "import warnings\n",
    "import xarray as xr\n",
    "import rioxarray as rxr\n",
    "import geopandas as gpd\n",
    "import matplotlib.pyplot as plt\n",
    "from odc.geo.xr import assign_crs\n",
    "from odc.stats.tasks import TaskReader\n",
    "from odc.stats.model import OutputProduct\n",
    "\n",
    "warnings.filterwarnings(\"ignore\")"
   ]
  },
  {
   "cell_type": "markdown",
   "id": "51eadcd4-fcd0-4d68-a8b6-0d6b617bbaaf",
   "metadata": {},
   "source": [
    "## Analysis Parameters\n",
    "\n",
    "Some tile ids to run\n",
    "* 'x43y14' # se aus forests Alps.\n",
    "* 'x39y09' # West tassie\n",
    "* 'x33y26' # Central Aus with salt lakes\n",
    "* 'x31y43' # Tropical NT\n",
    "* 'x19y18' # Esperance crops and sand dunes\n",
    "* 'x42y38' # Qld tropical forests\n",
    "* 'x39y13' # Melbourne city and bay+crops\n",
    "* 'x12y19' # Perth City\n",
    "* 'x41y12' # Complex coastal in Vic."
   ]
  },
  {
   "cell_type": "code",
   "execution_count": null,
   "id": "7ecc708c-1e1d-4cc5-9f87-647037984cac",
   "metadata": {},
   "outputs": [],
   "source": [
    "# tiles = ['x30y34','x36y52','x61y30','x58y22','x57y28', 'x61y29', 'x64y32', 'x65y40', 'x60y53' ,'x55y51', 'x46y58', 'x46y46', 'x36y34']\n",
    "# gdf = gpd.read_file('~/gdata1/projects/s2_gm/testing_tile_suite.geojson')\n",
    "\n",
    "# gdf = gdf[gdf['region_code'].isin(tiles)]\n",
    "# gdf.reset_index(drop=True).to_file('~/gdata1/projects/s2_gm/testing_tile_suite_13tiles.geojson')"
   ]
  },
  {
   "cell_type": "code",
   "execution_count": 2,
   "id": "c8d46250-ec43-482c-bb43-fb13cb1533d0",
   "metadata": {},
   "outputs": [],
   "source": [
    "year='2022'\n",
    "t = 39,9  # tile id to run i.e. x19y18\n",
    "resolution = 100 # can coarsen resolution to run to speed up testing\n",
    "products='ga_s2am_ard_3-ga_s2bm_ard_3-ga_s2cm_ard_3' # use all S2 observations\n",
    "name, version = 'ga_s2_gm_cyear_3', '0-0-1' #product name and version\n",
    "results = '/gdata1/projects/s2_gm/results/' #where are we outputting results?\n",
    "ncpus=15\n",
    "mem='100Gi'"
   ]
  },
  {
   "cell_type": "markdown",
   "id": "a647db17-9b8b-4c73-8dcf-f0b9a35b96f5",
   "metadata": {},
   "source": [
    "## Save tasks database etc."
   ]
  },
  {
   "cell_type": "code",
   "execution_count": 3,
   "id": "fe4d389a-d341-4a4f-9f8d-3f01f0e8ab75",
   "metadata": {},
   "outputs": [
    {
     "name": "stdout",
     "output_type": "stream",
     "text": [
      "config from yaml {} None\n",
      "[2025-05-20 22:58:16,854] {_cli_save_tasks.py:176} INFO - Config overrides: {'grid': 'au-10', 'input_products': 'ga_s2am_ard_3-ga_s2bm_ard_3-ga_s2cm_ard_3'}\n",
      "[2025-05-20 22:58:16,854] {_cli_save_tasks.py:179} INFO - Using config: {'grid': 'au-10', 'input_products': 'ga_s2am_ard_3-ga_s2bm_ard_3-ga_s2cm_ard_3', 'complevel': 6}\n"
     ]
    },
    {
     "name": "stderr",
     "output_type": "stream",
     "text": [
      "/env/lib/python3.10/site-packages/odc/dscache/tools/_index.py:63: FutureWarning: 'y' is deprecated and will be removed in a future version, please use 'Y' instead.\n",
      "  t = Period(begin, freq)\n"
     ]
    },
    {
     "name": "stdout",
     "output_type": "stream",
     "text": [
      "Connecting to the database, streaming datasets\n",
      "Training compression dictionary\n",
      ".. done\n",
      "Count: 136,853\n",
      "       661.3 per second\n",
      "Total: 206.957 sec\n",
      "TTFB :  0.045 sec\n",
      ".....: 643CFD16C64845ADA7D5FB9619E2076D\n",
      "..\n",
      "Total of 1,512 spatial tiles\n",
      "Total of 136,320 unique dataset IDs after filtering\n",
      "Saving tasks to disk (1512)\n",
      ".. done\n",
      "Writing summary to ga_s2am_ard_3-ga_s2bm_ard_3-ga_s2cm_ard_3_2022--P1Y.csv\n",
      "Dumping GeoJSON(s)\n",
      "..writing to ga_s2am_ard_3-ga_s2bm_ard_3-ga_s2cm_ard_3_2022--P1Y-2022--P1Y.geojson\n"
     ]
    },
    {
     "data": {
      "text/plain": [
       "0"
      ]
     },
     "execution_count": 3,
     "metadata": {},
     "output_type": "execute_result"
    }
   ],
   "source": [
    "os.system(\"odc-stats save-tasks \"\\\n",
    "          \"--grid au-10 \"\\\n",
    "          f\"--year {year} \"\\\n",
    "          f\"--input-products {products}\"\n",
    "         )\n",
    "\n",
    "# !odc-stats save-tasks --grid au-10 --year 2020 --input-products ga_s2am_ard_3-ga_s2bm_ard_3-ga_s2cm_ard_3"
   ]
  },
  {
   "cell_type": "markdown",
   "id": "5169d15f-1204-4261-8d9d-6abc073471a5",
   "metadata": {},
   "source": [
    "## Find the tile ID to run\n",
    "\n",
    "We'll pass this index to odc-stats next to tell it to run this tile"
   ]
  },
  {
   "cell_type": "code",
   "execution_count": 4,
   "id": "6cbf6e78-f305-42ce-9f75-a314606e6368",
   "metadata": {},
   "outputs": [
    {
     "name": "stdout",
     "output_type": "stream",
     "text": [
      "990\n"
     ]
    }
   ],
   "source": [
    "## Open the task database to find out tiles\n",
    "op = OutputProduct(\n",
    "            name=name,\n",
    "            version=version,\n",
    "            short_name=name,\n",
    "            location=f\"s3://dummy-bucket/{name}/{version}\",\n",
    "            properties={\"odc:file_format\": \"GeoTIFF\"},\n",
    "            measurements=['nbart_red'],\n",
    "        )\n",
    "\n",
    "taskdb = TaskReader(f'{products}_{year}--P1Y.db', product=op)\n",
    "task = taskdb.load_task((f'{year}--P1Y', t[0], t[1]))\n",
    "\n",
    "# Now find index of the tile we want to run\n",
    "# We'll pass this index to odc-stats next to tell it to run this tile\n",
    "tile_index_to_run = []\n",
    "all_tiles = list(taskdb.all_tiles)\n",
    "for i, index in zip(all_tiles, range(0, len(all_tiles))):\n",
    "    if (i[1]==t[0]) & (i[2]==t[1]):\n",
    "        tile_index_to_run.append(index)\n",
    "        print(index)"
   ]
  },
  {
   "cell_type": "markdown",
   "id": "b546fa85-deba-4fcd-9b65-4ec3a1ac1732",
   "metadata": {},
   "source": [
    "### Optionally view tile to check location\n",
    "\n",
    "The next cell will plot the tile extent on an interactive map so you can ensure its the tile you want to run."
   ]
  },
  {
   "cell_type": "code",
   "execution_count": 5,
   "id": "c84262d7-8e84-4859-abbf-e1935f9ab733",
   "metadata": {},
   "outputs": [
    {
     "data": {
      "text/html": [
       "<div style=\"width:100%;\"><div style=\"position:relative;width:100%;height:0;padding-bottom:60%;\"><span style=\"color:#565656\">Make this Notebook Trusted to load map: File -> Trust Notebook</span><iframe srcdoc=\"&lt;!DOCTYPE html&gt;\n",
       "&lt;html&gt;\n",
       "&lt;head&gt;\n",
       "    \n",
       "    &lt;meta http-equiv=&quot;content-type&quot; content=&quot;text/html; charset=UTF-8&quot; /&gt;\n",
       "    \n",
       "        &lt;script&gt;\n",
       "            L_NO_TOUCH = false;\n",
       "            L_DISABLE_3D = false;\n",
       "        &lt;/script&gt;\n",
       "    \n",
       "    &lt;style&gt;html, body {width: 100%;height: 100%;margin: 0;padding: 0;}&lt;/style&gt;\n",
       "    &lt;style&gt;#map {position:absolute;top:0;bottom:0;right:0;left:0;}&lt;/style&gt;\n",
       "    &lt;script src=&quot;https://cdn.jsdelivr.net/npm/leaflet@1.9.3/dist/leaflet.js&quot;&gt;&lt;/script&gt;\n",
       "    &lt;script src=&quot;https://code.jquery.com/jquery-3.7.1.min.js&quot;&gt;&lt;/script&gt;\n",
       "    &lt;script src=&quot;https://cdn.jsdelivr.net/npm/bootstrap@5.2.2/dist/js/bootstrap.bundle.min.js&quot;&gt;&lt;/script&gt;\n",
       "    &lt;script src=&quot;https://cdnjs.cloudflare.com/ajax/libs/Leaflet.awesome-markers/2.0.2/leaflet.awesome-markers.js&quot;&gt;&lt;/script&gt;\n",
       "    &lt;link rel=&quot;stylesheet&quot; href=&quot;https://cdn.jsdelivr.net/npm/leaflet@1.9.3/dist/leaflet.css&quot;/&gt;\n",
       "    &lt;link rel=&quot;stylesheet&quot; href=&quot;https://cdn.jsdelivr.net/npm/bootstrap@5.2.2/dist/css/bootstrap.min.css&quot;/&gt;\n",
       "    &lt;link rel=&quot;stylesheet&quot; href=&quot;https://netdna.bootstrapcdn.com/bootstrap/3.0.0/css/bootstrap-glyphicons.css&quot;/&gt;\n",
       "    &lt;link rel=&quot;stylesheet&quot; href=&quot;https://cdn.jsdelivr.net/npm/@fortawesome/fontawesome-free@6.2.0/css/all.min.css&quot;/&gt;\n",
       "    &lt;link rel=&quot;stylesheet&quot; href=&quot;https://cdnjs.cloudflare.com/ajax/libs/Leaflet.awesome-markers/2.0.2/leaflet.awesome-markers.css&quot;/&gt;\n",
       "    &lt;link rel=&quot;stylesheet&quot; href=&quot;https://cdn.jsdelivr.net/gh/python-visualization/folium/folium/templates/leaflet.awesome.rotate.min.css&quot;/&gt;\n",
       "    \n",
       "            &lt;meta name=&quot;viewport&quot; content=&quot;width=device-width,\n",
       "                initial-scale=1.0, maximum-scale=1.0, user-scalable=no&quot; /&gt;\n",
       "            &lt;style&gt;\n",
       "                #map_2c771329a8072c211337aa43379086a1 {\n",
       "                    position: relative;\n",
       "                    width: 100.0%;\n",
       "                    height: 100.0%;\n",
       "                    left: 0.0%;\n",
       "                    top: 0.0%;\n",
       "                }\n",
       "                .leaflet-container { font-size: 1rem; }\n",
       "            &lt;/style&gt;\n",
       "        \n",
       "    \n",
       "                    &lt;style&gt;\n",
       "                        .foliumtooltip {\n",
       "                            \n",
       "                        }\n",
       "                       .foliumtooltip table{\n",
       "                            margin: auto;\n",
       "                        }\n",
       "                        .foliumtooltip tr{\n",
       "                            text-align: left;\n",
       "                        }\n",
       "                        .foliumtooltip th{\n",
       "                            padding: 2px; padding-right: 8px;\n",
       "                        }\n",
       "                    &lt;/style&gt;\n",
       "            \n",
       "&lt;/head&gt;\n",
       "&lt;body&gt;\n",
       "    \n",
       "    \n",
       "            &lt;div class=&quot;folium-map&quot; id=&quot;map_2c771329a8072c211337aa43379086a1&quot; &gt;&lt;/div&gt;\n",
       "        \n",
       "&lt;/body&gt;\n",
       "&lt;script&gt;\n",
       "    \n",
       "    \n",
       "            var map_2c771329a8072c211337aa43379086a1 = L.map(\n",
       "                &quot;map_2c771329a8072c211337aa43379086a1&quot;,\n",
       "                {\n",
       "                    center: [-41.19310058992042, 144.90731539468788],\n",
       "                    crs: L.CRS.EPSG3857,\n",
       "                    zoom: 10,\n",
       "                    zoomControl: true,\n",
       "                    preferCanvas: false,\n",
       "                }\n",
       "            );\n",
       "            L.control.scale().addTo(map_2c771329a8072c211337aa43379086a1);\n",
       "\n",
       "            \n",
       "\n",
       "        \n",
       "    \n",
       "            var tile_layer_5f43b50e5d5548eefc32a684b6ba2dd2 = L.tileLayer(\n",
       "                &quot;https://tile.openstreetmap.org/{z}/{x}/{y}.png&quot;,\n",
       "                {&quot;attribution&quot;: &quot;\\u0026copy; \\u003ca href=\\&quot;https://www.openstreetmap.org/copyright\\&quot;\\u003eOpenStreetMap\\u003c/a\\u003e contributors&quot;, &quot;detectRetina&quot;: false, &quot;maxNativeZoom&quot;: 19, &quot;maxZoom&quot;: 19, &quot;minZoom&quot;: 0, &quot;noWrap&quot;: false, &quot;opacity&quot;: 1, &quot;subdomains&quot;: &quot;abc&quot;, &quot;tms&quot;: false}\n",
       "            );\n",
       "        \n",
       "    \n",
       "            tile_layer_5f43b50e5d5548eefc32a684b6ba2dd2.addTo(map_2c771329a8072c211337aa43379086a1);\n",
       "        \n",
       "    \n",
       "            map_2c771329a8072c211337aa43379086a1.fitBounds(\n",
       "                [[-41.67688730046673, 144.29355274553248], [-40.709313879374115, 145.52107804384332]],\n",
       "                {}\n",
       "            );\n",
       "        \n",
       "    \n",
       "        function geo_json_d35629454fa1a99901411e4017adbaa3_styler(feature) {\n",
       "            switch(feature.id) {\n",
       "                default:\n",
       "                    return {&quot;fillOpacity&quot;: 0.5, &quot;weight&quot;: 2};\n",
       "            }\n",
       "        }\n",
       "        function geo_json_d35629454fa1a99901411e4017adbaa3_highlighter(feature) {\n",
       "            switch(feature.id) {\n",
       "                default:\n",
       "                    return {&quot;fillOpacity&quot;: 0.75};\n",
       "            }\n",
       "        }\n",
       "        function geo_json_d35629454fa1a99901411e4017adbaa3_pointToLayer(feature, latlng) {\n",
       "            var opts = {&quot;bubblingMouseEvents&quot;: true, &quot;color&quot;: &quot;#3388ff&quot;, &quot;dashArray&quot;: null, &quot;dashOffset&quot;: null, &quot;fill&quot;: true, &quot;fillColor&quot;: &quot;#3388ff&quot;, &quot;fillOpacity&quot;: 0.2, &quot;fillRule&quot;: &quot;evenodd&quot;, &quot;lineCap&quot;: &quot;round&quot;, &quot;lineJoin&quot;: &quot;round&quot;, &quot;opacity&quot;: 1.0, &quot;radius&quot;: 2, &quot;stroke&quot;: true, &quot;weight&quot;: 3};\n",
       "            \n",
       "            let style = geo_json_d35629454fa1a99901411e4017adbaa3_styler(feature)\n",
       "            Object.assign(opts, style)\n",
       "            \n",
       "            return new L.CircleMarker(latlng, opts)\n",
       "        }\n",
       "\n",
       "        function geo_json_d35629454fa1a99901411e4017adbaa3_onEachFeature(feature, layer) {\n",
       "            layer.on({\n",
       "                mouseout: function(e) {\n",
       "                    if(typeof e.target.setStyle === &quot;function&quot;){\n",
       "                            geo_json_d35629454fa1a99901411e4017adbaa3.resetStyle(e.target);\n",
       "                    }\n",
       "                },\n",
       "                mouseover: function(e) {\n",
       "                    if(typeof e.target.setStyle === &quot;function&quot;){\n",
       "                        const highlightStyle = geo_json_d35629454fa1a99901411e4017adbaa3_highlighter(e.target.feature)\n",
       "                        e.target.setStyle(highlightStyle);\n",
       "                    }\n",
       "                },\n",
       "            });\n",
       "        };\n",
       "        var geo_json_d35629454fa1a99901411e4017adbaa3 = L.geoJson(null, {\n",
       "                onEachFeature: geo_json_d35629454fa1a99901411e4017adbaa3_onEachFeature,\n",
       "            \n",
       "                style: geo_json_d35629454fa1a99901411e4017adbaa3_styler,\n",
       "                pointToLayer: geo_json_d35629454fa1a99901411e4017adbaa3_pointToLayer,\n",
       "        });\n",
       "\n",
       "        function geo_json_d35629454fa1a99901411e4017adbaa3_add (data) {\n",
       "            geo_json_d35629454fa1a99901411e4017adbaa3\n",
       "                .addData(data);\n",
       "        }\n",
       "            geo_json_d35629454fa1a99901411e4017adbaa3_add({&quot;bbox&quot;: [144.29355274553248, -41.67688730046673, 145.52107804384332, -40.709313879374115], &quot;features&quot;: [{&quot;bbox&quot;: [144.29355274553248, -41.67688730046673, 145.52107804384332, -40.709313879374115], &quot;geometry&quot;: {&quot;coordinates&quot;: [[[144.29355274553248, -40.7977757817825], [144.40170433102975, -41.67688730046673], [145.52107804384332, -41.587248513963445], [145.40330297003854, -40.709313879374115], [144.29355274553248, -40.7977757817825]]], &quot;type&quot;: &quot;Polygon&quot;}, &quot;id&quot;: &quot;0&quot;, &quot;properties&quot;: {}, &quot;type&quot;: &quot;Feature&quot;}], &quot;type&quot;: &quot;FeatureCollection&quot;});\n",
       "\n",
       "        \n",
       "    \n",
       "    geo_json_d35629454fa1a99901411e4017adbaa3.bindTooltip(\n",
       "    function(layer){\n",
       "    let div = L.DomUtil.create(&#x27;div&#x27;);\n",
       "    \n",
       "    return div\n",
       "    }\n",
       "    ,{&quot;className&quot;: &quot;foliumtooltip&quot;, &quot;sticky&quot;: true});\n",
       "                     \n",
       "    \n",
       "            geo_json_d35629454fa1a99901411e4017adbaa3.addTo(map_2c771329a8072c211337aa43379086a1);\n",
       "        \n",
       "&lt;/script&gt;\n",
       "&lt;/html&gt;\" style=\"position:absolute;width:100%;height:100%;left:0;top:0;border:none !important;\" allowfullscreen webkitallowfullscreen mozallowfullscreen></iframe></div></div>"
      ],
      "text/plain": [
       "<folium.folium.Map at 0x7f8ed1901540>"
      ]
     },
     "execution_count": 5,
     "metadata": {},
     "output_type": "execute_result"
    }
   ],
   "source": [
    "# with open('task_tile_check.geojson', 'w') as fh:\n",
    "#     json.dump(task.geobox.extent.to_crs('epsg:4326').json, fh, indent=2)\n",
    "\n",
    "gdf = gpd.GeoDataFrame(index=[0], crs='epsg:4326', geometry=[task.geobox.extent.to_crs('epsg:4326').geom])\n",
    "gdf.explore()"
   ]
  },
  {
   "cell_type": "markdown",
   "id": "3d10a354-8256-4645-b9be-4c9ea92a750f",
   "metadata": {},
   "source": [
    "## Run the geomedian algo using odc-stats\n",
    "\n",
    "Put this link into the dask dashboard to view the progress, altering the email address to yours: https://app.sandbox.dea.ga.gov.au/user/chad.burton@ga.gov.au/proxy/8787/status"
   ]
  },
  {
   "cell_type": "code",
   "execution_count": 45,
   "id": "7d988b07-8ae9-4bb6-8d93-6b3228a1587b",
   "metadata": {
    "scrolled": true
   },
   "outputs": [
    {
     "name": "stdout",
     "output_type": "stream",
     "text": [
      "[2025-05-21 00:13:26,600] {_cli_run.py:168} INFO - Config overrides: {'filedb': 'ga_s2am_ard_3-ga_s2bm_ard_3-ga_s2cm_ard_3_2022--P1Y.db', 'threads': 15, 'memory_limit': '100Gi', 'output_location': 'file:///home/jovyan//gdata1/projects/s2_gm/results/ga_s2_gm_cyear_3/0-0-1990'}\n",
      "[2025-05-21 00:13:26,600] {_cli_run.py:200} INFO - Using this config: TaskRunnerConfig(filedb='ga_s2am_ard_3-ga_s2bm_ard_3-ga_s2cm_ard_3_2022--P1Y.db', aws_unsigned=True, plugin='s2_gm_tools.s2_gm_plugin.GMS2AUS', plugin_config={'resampling': 'cubic', 'bands': ['nbart_red', 'nbart_green', 'nbart_blue'], 'rgb_bands': ['nbart_red', 'nbart_green', 'nbart_blue'], 'mask_band': 'oa_s2cloudless_mask', 'proba_band': 'oa_s2cloudless_prob', 'contiguity_band': 'nbart_contiguity', 'nodata_classes': ['nodata'], 'cp_threshold': 0.1, 'cloud_filters': {'cloud': [['opening', 2], ['dilation', 3]]}, 'aux_names': {'smad': 'sdev', 'emad': 'edev', 'bcmad': 'bcdev', 'count': 'count'}}, product={'name': 'ga_s2_gm_cyear_3', 'short_name': 'ga_s2_gm_cyear_3', 'version': '0.0.1', 'product_family': 'geomedian', 'naming_conventions_values': 'dea_c3', 'explorer_path': 'https://explorer.dea.ga.gov.au/', 'classifier': 'ard', 'maturity': 'final', 'collection_number': 3, 'inherit_skip_properties': ['eo:cloud_cover', 'fmask:clear', 'fmask:snow', 'fmask:cloud', 'fmask:water', 'fmask:cloud_shadow', 'eo:sun_elevation', 'eo:sun_azimuth', 'gqa:iterative_stddev_x', 'gqa:iterative_stddev_y', 'gqa:iterative_stddev_xy', 'gqa:stddev_xy', 'gqa:stddev_x', 'gqa:stddev_y', 'gqa:mean_xy', 'gqa:mean_x', 'gqa:mean_y', 'gqa:abs_xy', 'gqa:abs_x', 'gqa:abs_y', 'gqa:abs_iterative_mean_y', 'gqa:abs_iterative_mean_x', 'gqa:abs_iterative_mean_xy', 'gqa:iterative_mean_xy', 'gqa:iterative_mean_x', 'gqa:iterative_mean_y', 'gqa:cep90', 'landsat:landsat_product_id', 'landsat:landsat_scene_id', 'landsat:collection_category', 'landsat:collection_number', 'landsat:wrs_path', 'landsat:wrs_row']}, threads=15, memory_limit='100Gi', output_location='file:///home/jovyan//gdata1/projects/s2_gm/results/ga_s2_gm_cyear_3/0-0-1990', s3_acl='public-read', s3_public=False, cog_opts={'compress': 'deflate', 'zlevel': 9, 'blocksize': 800, 'ovr_blocksize': 256, 'overview_resampling': 'average', 'overrides': {'rgba': {'compress': 'JPEG', 'jpeg_quality': 90}, 'qa': {'overview_resampling': 'mode'}}}, overwrite=False, heartbeat_filepath=None, max_processing_time=3600, job_queue_max_lease=3600, renew_safety_margin=60, future_poll_interval=2)\n",
      "[2025-05-21 00:13:26,751] {proc.py:55} INFO - Resolving plugin: s2_gm_tools.s2_gm_plugin.GMS2AUS\n",
      "[2025-05-21 00:13:26,752] {proc.py:61} INFO - Output product: OutputProduct(name='ga_s2_gm_cyear_3', version='0.0.1', short_name='ga_s2_gm_cyear_3', location='file:///home/jovyan//gdata1/projects/s2_gm/results/ga_s2_gm_cyear_3/0-0-1990', properties={'odc:file_format': 'GeoTIFF', 'odc:product_family': 'geomedian', 'odc:producer': 'ga.gov.au'}, measurements=('nbart_red', 'nbart_green', 'nbart_blue', 'sdev', 'edev', 'bcdev', 'count'), href='https://collections.dea.ga.gov.au/product/ga_s2_gm_cyear_3', region_code_format='x{x:02d}y{y:02d}', cfg=None, naming_conventions_values='dea_c3', explorer_path='https://explorer.dea.ga.gov.au/', inherit_skip_properties=['eo:cloud_cover', 'fmask:clear', 'fmask:snow', 'fmask:cloud', 'fmask:water', 'fmask:cloud_shadow', 'eo:sun_elevation', 'eo:sun_azimuth', 'gqa:iterative_stddev_x', 'gqa:iterative_stddev_y', 'gqa:iterative_stddev_xy', 'gqa:stddev_xy', 'gqa:stddev_x', 'gqa:stddev_y', 'gqa:mean_xy', 'gqa:mean_x', 'gqa:mean_y', 'gqa:abs_xy', 'gqa:abs_x', 'gqa:abs_y', 'gqa:abs_iterative_mean_y', 'gqa:abs_iterative_mean_x', 'gqa:abs_iterative_mean_xy', 'gqa:iterative_mean_xy', 'gqa:iterative_mean_x', 'gqa:iterative_mean_y', 'gqa:cep90', 'landsat:landsat_product_id', 'landsat:landsat_scene_id', 'landsat:collection_category', 'landsat:collection_number', 'landsat:wrs_path', 'landsat:wrs_row'], preview_image_ows_style=None, classifier='ard', maturity='final', collection_number=3, nodata=None)\n",
      "[2025-05-21 00:13:26,753] {proc.py:64} INFO - Constructing task reader: ga_s2am_ard_3-ga_s2bm_ard_3-ga_s2cm_ard_3_2022--P1Y.db\n",
      "[2025-05-21 00:13:26,830] {proc.py:66} INFO - Will read from <ga_s2am_ard_3-ga_s2bm_ard_3-ga_s2cm_ard_3_2022--P1Y.db> grid:au-10 n:1,512\n",
      "[2025-05-21 00:13:26,830] {proc.py:68} INFO - Changing resolution to -100.0, 100.0\n",
      "[2025-05-21 00:13:26,830] {proc.py:309} INFO - Starting processing from task list\n"
     ]
    },
    {
     "name": "stderr",
     "output_type": "stream",
     "text": [
      "Traceback (most recent call last):\n",
      "  File \"/env/bin/odc-stats\", line 8, in <module>\n",
      "    sys.exit(main())\n",
      "  File \"/env/lib/python3.10/site-packages/click/core.py\", line 1157, in __call__\n",
      "    return self.main(*args, **kwargs)\n",
      "  File \"/env/lib/python3.10/site-packages/click/core.py\", line 1078, in main\n",
      "    rv = self.invoke(ctx)\n",
      "  File \"/env/lib/python3.10/site-packages/click/core.py\", line 1688, in invoke\n",
      "    return _process_result(sub_ctx.command.invoke(sub_ctx))\n",
      "  File \"/env/lib/python3.10/site-packages/click/core.py\", line 1434, in invoke\n",
      "    return ctx.invoke(self.callback, **ctx.params)\n",
      "  File \"/env/lib/python3.10/site-packages/click/core.py\", line 783, in invoke\n",
      "    return __callback(*args, **kwargs)\n",
      "  File \"/env/lib/python3.10/site-packages/odc/stats/_cli_run.py\", line 233, in run\n",
      "    for result in result_stream:\n",
      "  File \"/env/lib/python3.10/site-packages/odc/stats/proc.py\", line 213, in _run\n",
      "    client = self.client()\n",
      "  File \"/env/lib/python3.10/site-packages/odc/stats/proc.py\", line 122, in client\n",
      "    self._client = self._init_dask()\n",
      "  File \"/env/lib/python3.10/site-packages/odc/stats/proc.py\", line 114, in _init_dask\n",
      "    if self.proc.dask_worker_plugin is not None:\n",
      "AttributeError: 'GMS2AUS' object has no attribute 'dask_worker_plugin'\n"
     ]
    },
    {
     "name": "stdout",
     "output_type": "stream",
     "text": [
      "CPU times: user 4.68 ms, sys: 610 μs, total: 5.29 ms\n",
      "Wall time: 3.72 s\n"
     ]
    },
    {
     "data": {
      "text/plain": [
       "256"
      ]
     },
     "execution_count": 45,
     "metadata": {},
     "output_type": "execute_result"
    }
   ],
   "source": [
    "%%time\n",
    "os.system(\"odc-stats run \"\\\n",
    "          f\"{products}_{year}--P1Y.db \"\\\n",
    "          \"--config=s2_gm_tools/s2_gm_tools/config/config_gm_s2_annual_s2Cloudless_enhanced.yaml \"\\\n",
    "          f\"--resolution={resolution} \"\\\n",
    "          f\"--threads={ncpus} \"\\\n",
    "          f\"--memory-limit={mem} \"\\\n",
    "          f\"--location=file:///home/jovyan/{results}{name}/{version}\" f\"{tile_index_to_run[0]}\"\n",
    "         )"
   ]
  },
  {
   "cell_type": "code",
   "execution_count": 46,
   "id": "df0fd547-7dcb-4d09-b96a-688cecee4c82",
   "metadata": {},
   "outputs": [
    {
     "name": "stdout",
     "output_type": "stream",
     "text": [
      "odc-algo                          0.2.3\n",
      "odc-cloud                         0.2.5\n",
      "odc-dscache                       0.2.3\n",
      "odc-geo                           0.4.8\n",
      "odc-io                            0.2.2\n",
      "odc-stac                          0.3.10\n",
      "odc-stats                         1.0.57\n",
      "odc-ui                            0.2.1\n"
     ]
    }
   ],
   "source": [
    "!pip list | grep odc"
   ]
  },
  {
   "cell_type": "code",
   "execution_count": 44,
   "id": "81ac5cef-9ace-4932-b17a-cd730242836e",
   "metadata": {},
   "outputs": [
    {
     "name": "stdout",
     "output_type": "stream",
     "text": [
      "Processing ./s2_gm_tools\n",
      "  Preparing metadata (setup.py) ... \u001b[?25ldone\n",
      "\u001b[?25hBuilding wheels for collected packages: s2-gm-tools\n",
      "  Building wheel for s2-gm-tools (setup.py) ... \u001b[?25ldone\n",
      "\u001b[?25h  Created wheel for s2-gm-tools: filename=s2_gm_tools-1.0.0-py3-none-any.whl size=4609 sha256=d8c6dd1125c4760d98266b05a9cec42698041f57f10a134bb38f6c0070a32979\n",
      "  Stored in directory: /tmp/pip-ephem-wheel-cache-oly0d1xf/wheels/4e/ba/0e/f78ae9c2f6d8472eaed9090aa95acc9d2252f1e66a22e9b339\n",
      "Successfully built s2-gm-tools\n",
      "Installing collected packages: s2-gm-tools\n",
      "Successfully installed s2-gm-tools-1.0.0\n"
     ]
    }
   ],
   "source": [
    "# !pip uninstall s2_gm_tools -y\n",
    "!pip install s2_gm_tools/"
   ]
  },
  {
   "cell_type": "markdown",
   "id": "9c0f4565-c92b-43ae-ac91-a4b9dc0f29da",
   "metadata": {},
   "source": [
    "## Plot the RGBA output"
   ]
  },
  {
   "cell_type": "code",
   "execution_count": null,
   "id": "7dc07dec-a05f-416a-b7b1-6823c35741e4",
   "metadata": {},
   "outputs": [],
   "source": [
    "t = 39,9  # tile id\n",
    "name, version = 'ga_s2_gm_cyear_3', '0-0-1'\n",
    "results = '/gdata1/projects/s2_gm/results/'"
   ]
  },
  {
   "cell_type": "code",
   "execution_count": null,
   "id": "f3e6046e-2332-4e8d-b1e2-6a1bdffbe64d",
   "metadata": {},
   "outputs": [],
   "source": [
    "x= f'x{t[0]}'\n",
    "y= f'y{t[1]}'\n",
    "\n",
    "path = f'{results}{name}/{version}/{x}/{y}/{year}--P1Y/{name}_{x}{y}_{year}--P1Y_final_rgba.tif'\n",
    "rgba=rxr.open_rasterio(path)\n",
    "rgba=assign_crs(rgba, crs='EPSG:3577')\n",
    "\n",
    "rgba.plot.imshow(size=6);\n",
    "plt.title(a+b);"
   ]
  },
  {
   "cell_type": "markdown",
   "id": "b97a82e2-3cca-486c-bf3f-a92f54a02db1",
   "metadata": {},
   "source": [
    "## Interactively explore results"
   ]
  },
  {
   "cell_type": "code",
   "execution_count": null,
   "id": "159667c2-3a7d-4abc-80fc-b9521ceca71c",
   "metadata": {},
   "outputs": [],
   "source": [
    "red_path = f'{results}{name}/{version}/{x}/{y}/{year}--P1Y/{name}{x}{y}_{year}--P1Y_final_nbart_red.tif'\n",
    "green_path = f'{results}{name}/{version}/{x}/{y}/{year}--P1Y/{name}{x}{y}_{year}--P1Y_final_nbart_green.tif'\n",
    "blue_path = f'{results}{name}/{version}/{x}/{y}/{year}--P1Y/{name}{x}{y}_{year}--P1Y_final_nbart_blue.tif'\n",
    "\n",
    "r=assign_crs(rxr.open_rasterio(red_path).squeeze().drop_vars('band'),crs='EPSG:3577')\n",
    "g=assign_crs(rxr.open_rasterio(green_path).squeeze().drop_vars('band'),crs='EPSG:3577')\n",
    "b=assign_crs(rxr.open_rasterio(blue_path).squeeze().drop_vars('band'),crs='EPSG:3577')\n",
    "\n",
    "r = r.rename('nbart_red')\n",
    "g = g.rename('nbart_green')\n",
    "b = b.rename('nbart_blue')\n",
    "\n",
    "ds = assign_crs(xr.merge([r,g,b]), crs='EPSG:3577')"
   ]
  },
  {
   "cell_type": "code",
   "execution_count": null,
   "id": "666ade5a-28ab-4fd5-a3ce-9b174d13b832",
   "metadata": {},
   "outputs": [],
   "source": [
    "ds.odc.explore()"
   ]
  },
  {
   "cell_type": "markdown",
   "id": "1f225904-1836-48af-8517-5bf3e5a7be41",
   "metadata": {},
   "source": [
    "## Remove all files"
   ]
  },
  {
   "cell_type": "code",
   "execution_count": null,
   "id": "038f4585-8dc8-4981-be95-abf67a712f79",
   "metadata": {},
   "outputs": [],
   "source": [
    "# !rm -r -f results/ga_s2_gm_cyear_3/"
   ]
  },
  {
   "cell_type": "code",
   "execution_count": null,
   "id": "e1227e31-3783-4eae-ae3a-c6402cadad1e",
   "metadata": {},
   "outputs": [],
   "source": []
  }
 ],
 "metadata": {
  "kernelspec": {
   "display_name": "Python 3 (ipykernel)",
   "language": "python",
   "name": "python3"
  },
  "language_info": {
   "codemirror_mode": {
    "name": "ipython",
    "version": 3
   },
   "file_extension": ".py",
   "mimetype": "text/x-python",
   "name": "python",
   "nbconvert_exporter": "python",
   "pygments_lexer": "ipython3",
   "version": "3.10.15"
  }
 },
 "nbformat": 4,
 "nbformat_minor": 5
}
