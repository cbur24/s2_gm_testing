{
 "cells": [
  {
   "cell_type": "markdown",
   "id": "0c2dc7f8-8b93-4468-b648-86461e3b85d3",
   "metadata": {},
   "source": [
    "# Annual Sentinel-2 Geomedian run with odc-stats\n",
    "\n",
    "Useful links:\n",
    "* [odc-stats](https://github.com/opendatacube/odc-stats)\n",
    "* [crop-mask plugin](https://github.com/digitalearthafrica/crop-mask/blob/main/production/cm_tools/cm_tools/gm_ml_pred.py)\n",
    "* [odc-algo geomedians](https://github.com/opendatacube/odc-algo/blob/main/odc/algo/_geomedian.py#L337)\n",
    "* [example geomedian config files](https://github.com/GeoscienceAustralia/dea-config/tree/09fa937a9c79e3505e85d2364a30bc002ca0c5f3/dev/services/odc-stats/geomedian)\n",
    "* DEA-config for other [geomedians runs](https://github.com/GeoscienceAustralia/dea-config/tree/09fa937a9c79e3505e85d2364a30bc002ca0c5f3/dev/services/odc-stats/geomedian)"
   ]
  },
  {
   "cell_type": "code",
   "execution_count": null,
   "id": "2e5510ac-a4cb-47db-b58d-534e4ae98307",
   "metadata": {},
   "outputs": [],
   "source": [
    "!pip uninstall s2_gm_tools -y\n",
    "!pip install s2_gm_tools/"
   ]
  },
  {
   "cell_type": "code",
   "execution_count": null,
   "id": "fcb8abd6-384e-4c95-81a5-09c7df86f80b",
   "metadata": {},
   "outputs": [],
   "source": [
    "import os\n",
    "import json\n",
    "import warnings\n",
    "import xarray as xr\n",
    "import rioxarray as rxr\n",
    "import geopandas as gpd\n",
    "import matplotlib.pyplot as plt\n",
    "from odc.geo.xr import assign_crs\n",
    "from odc.stats.tasks import TaskReader\n",
    "from odc.stats.model import OutputProduct\n",
    "\n",
    "warnings.filterwarnings(\"ignore\")"
   ]
  },
  {
   "cell_type": "markdown",
   "id": "51eadcd4-fcd0-4d68-a8b6-0d6b617bbaaf",
   "metadata": {},
   "source": [
    "## Analysis Parameters\n",
    "\n",
    "Some tile ids to run\n",
    "* 'x43y14' # se aus forests Alps.\n",
    "* 'x39y09' # West tassie\n",
    "* 'x33y26' # Central Aus with salt lakes\n",
    "* 'x31y43' # Tropical NT\n",
    "* 'x19y18' # Esperance crops and sand dunes\n",
    "* 'x42y38' # Qld tropical forests\n",
    "* 'x39y13' # Melbourne city and bay+crops\n",
    "* 'x12y19' # Perth City\n",
    "* 'x41y12' # Complex coastal in Vic."
   ]
  },
  {
   "cell_type": "code",
   "execution_count": null,
   "id": "7ecc708c-1e1d-4cc5-9f87-647037984cac",
   "metadata": {},
   "outputs": [],
   "source": [
    "# tiles = ['x30y34','x36y52','x61y30','x58y22','x57y28', 'x61y29', 'x64y32', 'x65y40', 'x60y53' ,'x55y51', 'x46y58', 'x46y46', 'x36y34']\n",
    "# gdf = gpd.read_file('~/gdata1/projects/s2_gm/testing_tile_suite.geojson')\n",
    "\n",
    "# gdf = gdf[gdf['region_code'].isin(tiles)]\n",
    "# gdf.reset_index(drop=True).to_file('~/gdata1/projects/s2_gm/testing_tile_suite_13tiles.geojson')"
   ]
  },
  {
   "cell_type": "code",
   "execution_count": null,
   "id": "c8d46250-ec43-482c-bb43-fb13cb1533d0",
   "metadata": {},
   "outputs": [],
   "source": [
    "year='2022' \n",
    "t = 19,18  # tile id to run i.e. x19y18\n",
    "resolution = 30 # can coarsen resolution to run to speed up testing\n",
    "products='ga_s2am_ard_3-ga_s2bm_ard_3-ga_s2cm_ard_3' # use all S2 observations\n",
    "name, version = 'ga_s2_gm_cyear_3', '0-0-1' #product name and version\n",
    "results = '/gdata1/projects/s2_gm/results/' #where are we outputting results?\n",
    "ncpus=30\n",
    "mem='220Gi'"
   ]
  },
  {
   "cell_type": "markdown",
   "id": "a647db17-9b8b-4c73-8dcf-f0b9a35b96f5",
   "metadata": {},
   "source": [
    "## Save tasks database etc."
   ]
  },
  {
   "cell_type": "code",
   "execution_count": null,
   "id": "fe4d389a-d341-4a4f-9f8d-3f01f0e8ab75",
   "metadata": {},
   "outputs": [],
   "source": [
    "os.system(\"odc-stats save-tasks \"\\\n",
    "          \"--grid au-10 \"\\\n",
    "          f\"--year {year} \"\\\n",
    "          f\"--input-products {products}\"\n",
    "         )"
   ]
  },
  {
   "cell_type": "markdown",
   "id": "5169d15f-1204-4261-8d9d-6abc073471a5",
   "metadata": {},
   "source": [
    "## Find the tile ID to run\n",
    "\n",
    "We'll pass this index to odc-stats next to tell it to run this tile"
   ]
  },
  {
   "cell_type": "code",
   "execution_count": null,
   "id": "6cbf6e78-f305-42ce-9f75-a314606e6368",
   "metadata": {},
   "outputs": [],
   "source": [
    "## Open the task database to find out tiles\n",
    "op = OutputProduct(\n",
    "            name=name,\n",
    "            version=version,\n",
    "            short_name=name,\n",
    "            location=f\"s3://dummy-bucket/{name}/{version}\",\n",
    "            properties={\"odc:file_format\": \"GeoTIFF\"},\n",
    "            measurements=['nbart_red'],\n",
    "        )\n",
    "\n",
    "taskdb = TaskReader(f'{products}_{year}--P1Y.db', product=op)\n",
    "task = taskdb.load_task((f'{year}--P1Y', t[0], t[1]))\n",
    "\n",
    "# Now find index of the tile we want to run\n",
    "# We'll pass this index to odc-stats next to tell it to run this tile\n",
    "tile_index_to_run = []\n",
    "all_tiles = list(taskdb.all_tiles)\n",
    "for i, index in zip(all_tiles, range(0, len(all_tiles))):\n",
    "    if (i[1]==t[0]) & (i[2]==t[1]):\n",
    "        tile_index_to_run.append(index)\n",
    "        print(index)"
   ]
  },
  {
   "cell_type": "markdown",
   "id": "b546fa85-deba-4fcd-9b65-4ec3a1ac1732",
   "metadata": {},
   "source": [
    "### Optionally view tile to check location\n",
    "\n",
    "The next cell will plot the tile extent on an interactive map so you can ensure its the tile you want to run."
   ]
  },
  {
   "cell_type": "code",
   "execution_count": null,
   "id": "c84262d7-8e84-4859-abbf-e1935f9ab733",
   "metadata": {},
   "outputs": [],
   "source": [
    "# with open('task_tile_check.geojson', 'w') as fh:\n",
    "#     json.dump(task.geobox.extent.to_crs('epsg:4326').json, fh, indent=2)\n",
    "\n",
    "gdf = gpd.GeoDataFrame(index=[0], crs='epsg:4326', geometry=[task.geobox.extent.to_crs('epsg:4326').geom])\n",
    "gdf.explore()"
   ]
  },
  {
   "cell_type": "markdown",
   "id": "3d10a354-8256-4645-b9be-4c9ea92a750f",
   "metadata": {},
   "source": [
    "## Run the geomedian algo using odc-stats\n",
    "\n",
    "Put this link into the dask dashboard to view the progress, altering the email address to yours: https://app.sandbox.dea.ga.gov.au/user/chad.burton@ga.gov.au/proxy/8787/status"
   ]
  },
  {
   "cell_type": "code",
   "execution_count": null,
   "id": "81ac5cef-9ace-4932-b17a-cd730242836e",
   "metadata": {},
   "outputs": [],
   "source": [
    "!pip uninstall s2_gm_tools -y\n",
    "!pip install s2_gm_tools/"
   ]
  },
  {
   "cell_type": "code",
   "execution_count": null,
   "id": "7d988b07-8ae9-4bb6-8d93-6b3228a1587b",
   "metadata": {
    "scrolled": true
   },
   "outputs": [],
   "source": [
    "%%time\n",
    "os.system(\"odc-stats run \"\\\n",
    "          f\"{products}_{year}--P1Y.db \"\\\n",
    "          \"--config=s2_gm_tools/s2_gm_tools/config/config_gm_s2_annual_s2Cloudless_enhanced.yaml \"\\\n",
    "          f\"--resolution={resolution} \"\\\n",
    "          f\"--threads={ncpus} \"\\\n",
    "          f\"--memory-limit={mem} \"\\\n",
    "          f\"--location=file:///home/jovyan/{results}{name}/{version} \" +str(tile_index_to_run[0])\n",
    "         )"
   ]
  },
  {
   "cell_type": "markdown",
   "id": "9c0f4565-c92b-43ae-ac91-a4b9dc0f29da",
   "metadata": {},
   "source": [
    "## Plot the RGBA output"
   ]
  },
  {
   "cell_type": "code",
   "execution_count": null,
   "id": "7dc07dec-a05f-416a-b7b1-6823c35741e4",
   "metadata": {},
   "outputs": [],
   "source": [
    "# t = 3,19  # tile id\n",
    "name, version = 'ga_s2_gm_cyear_3', '0-0-1'\n",
    "results = '/gdata1/projects/s2_gm/results/'"
   ]
  },
  {
   "cell_type": "code",
   "execution_count": null,
   "id": "f3e6046e-2332-4e8d-b1e2-6a1bdffbe64d",
   "metadata": {},
   "outputs": [],
   "source": [
    "x= f'x{t[0]}'\n",
    "y= f'y{t[1]}'\n",
    "\n",
    "path = f'{results}{name}/{version}/{x}/{y}/{year}--P1Y/{name}_{x}{y}_{year}--P1Y_final_rgba.tif'\n",
    "rgba=rxr.open_rasterio(path)\n",
    "rgba=assign_crs(rgba, crs='EPSG:3577')\n",
    "\n",
    "rgba.plot.imshow(size=10);\n",
    "plt.title(x+y);"
   ]
  },
  {
   "cell_type": "markdown",
   "id": "b97a82e2-3cca-486c-bf3f-a92f54a02db1",
   "metadata": {},
   "source": [
    "## Interactively explore results"
   ]
  },
  {
   "cell_type": "code",
   "execution_count": null,
   "id": "159667c2-3a7d-4abc-80fc-b9521ceca71c",
   "metadata": {},
   "outputs": [],
   "source": [
    "red_path = f'{results}{name}/{version}/{x}/{y}/{year}--P1Y/{name}_{x}{y}_{year}--P1Y_final_nbart_red.tif'\n",
    "green_path = f'{results}{name}/{version}/{x}/{y}/{year}--P1Y/{name}_{x}{y}_{year}--P1Y_final_nbart_green.tif'\n",
    "blue_path = f'{results}{name}/{version}/{x}/{y}/{year}--P1Y/{name}_{x}{y}_{year}--P1Y_final_nbart_blue.tif'\n",
    "count_path = f'{results}{name}/{version}/{x}/{y}/{year}--P1Y/{name}_{x}{y}_{year}--P1Y_final_count.tif'\n",
    "\n",
    "r=assign_crs(rxr.open_rasterio(red_path).squeeze().drop_vars('band'),crs='EPSG:3577')\n",
    "g=assign_crs(rxr.open_rasterio(green_path).squeeze().drop_vars('band'),crs='EPSG:3577')\n",
    "b=assign_crs(rxr.open_rasterio(blue_path).squeeze().drop_vars('band'),crs='EPSG:3577')\n",
    "\n",
    "r = r.rename('nbart_red')\n",
    "g = g.rename('nbart_green')\n",
    "b = b.rename('nbart_blue')\n",
    "\n",
    "ds = assign_crs(xr.merge([r,g,b]), crs='EPSG:3577')"
   ]
  },
  {
   "cell_type": "code",
   "execution_count": null,
   "id": "74656fa2-5a14-4390-be25-8668d0cf58c2",
   "metadata": {},
   "outputs": [],
   "source": [
    "count=assign_crs(rxr.open_rasterio(count_path).squeeze().drop_vars('band'),crs='EPSG:3577')\n",
    "\n",
    "mean_clear_updated = count.mean().item()\n",
    "min_clear_updated = count.min().item()\n",
    "max_clear_updated = count.max().item()\n",
    "\n",
    "print(f'Updated masking clear counts (min, mean, max) = {min_clear_updated}, {mean_clear_updated:.0f}, {max_clear_updated}')\n",
    "\n",
    "count.plot(cmap='magma', vmin=10, vmax=90, size=8);"
   ]
  },
  {
   "cell_type": "code",
   "execution_count": null,
   "id": "666ade5a-28ab-4fd5-a3ce-9b174d13b832",
   "metadata": {},
   "outputs": [],
   "source": [
    "vmin, vmax = ds[['nbart_red', 'nbart_green', 'nbart_blue']].to_array().quantile((0.01, 0.99)).values\n",
    "\n",
    "ds.odc.explore(vmin=vmin,\n",
    "    vmax=vmax,\n",
    "    # tiles = 'https://server.arcgisonline.com/ArcGIS/rest/services/World_Imagery/MapServer/tile/{z}/{y}/{x}',\n",
    "    # attr = 'Esri',\n",
    "    # name = 'Esri Satellite'\n",
    "              )"
   ]
  },
  {
   "cell_type": "markdown",
   "id": "1f225904-1836-48af-8517-5bf3e5a7be41",
   "metadata": {},
   "source": [
    "## Remove all files"
   ]
  },
  {
   "cell_type": "code",
   "execution_count": null,
   "id": "038f4585-8dc8-4981-be95-abf67a712f79",
   "metadata": {},
   "outputs": [],
   "source": [
    "!rm -r -f results/ga_s2_gm_cyear_3/"
   ]
  },
  {
   "cell_type": "code",
   "execution_count": null,
   "id": "e1227e31-3783-4eae-ae3a-c6402cadad1e",
   "metadata": {},
   "outputs": [],
   "source": []
  }
 ],
 "metadata": {
  "kernelspec": {
   "display_name": "Python 3 (ipykernel)",
   "language": "python",
   "name": "python3"
  },
  "language_info": {
   "codemirror_mode": {
    "name": "ipython",
    "version": 3
   },
   "file_extension": ".py",
   "mimetype": "text/x-python",
   "name": "python",
   "nbconvert_exporter": "python",
   "pygments_lexer": "ipython3",
   "version": "3.10.15"
  }
 },
 "nbformat": 4,
 "nbformat_minor": 5
}
