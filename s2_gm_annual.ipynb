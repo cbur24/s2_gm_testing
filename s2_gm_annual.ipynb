{
 "cells": [
  {
   "cell_type": "markdown",
   "id": "70d77223-6f80-4053-ad57-29071eb7c291",
   "metadata": {},
   "source": [
    "# Testing development of annual Sentinel-2 Geomedian\n",
    "\n",
    "* [Seasonal geomedian report](https://geoscienceau-my.sharepoint.com/:w:/g/personal/james_miller_ga_gov_au/EVFJCVoYGdRPlpG_MCh95DIB3n5Earq-n9766FWj4lFBZw?e=ihzQer)\n",
    "* [Cloud masking report](https://geoscienceau.sharepoint.com/:w:/r/sites/DEA/Shared%20Documents/Projects%20%26%20Programs/DEA%20Land%20Cover/Cloud%20Masking%20Validation/Cloud%20Masking%20Technical%20Report%20-%20Public.docx?d=w1c5e6e3d0f664d35ada2eba5b7cce187&csf=1&web=1&e=ieSD8S)\n",
    "* [DE Africa odc-plugin](https://github.com/opendatacube/odc-stats/blob/37e41140515ea1a5f7033b2144b22d8f43a231f6/odc/stats/plugins/gm.py#L131), used this mask filter: `[(\"opening\", 2), (\"dilation\", 5)]`\n",
    "* [odc-algo geomedian functions](https://github.com/opendatacube/odc-algo/blob/main/odc/algo/_geomedian.py#L337)\n",
    "\n",
    "Notes on gms from coastal:\n",
    "* They run everything at 10m resolution, with cubic resampling of 20m bands.\n",
    "* Use S2Cloudless with no additional filters"
   ]
  },
  {
   "cell_type": "markdown",
   "id": "f3cd3712-9913-4565-9b00-d3eaaf0fe1f9",
   "metadata": {},
   "source": [
    "## Import libraries"
   ]
  },
  {
   "cell_type": "code",
   "execution_count": null,
   "id": "d4644801-21a5-461e-8d8d-6fd7ffe6b2df",
   "metadata": {},
   "outputs": [],
   "source": [
    "import os\n",
    "import warnings\n",
    "import datacube\n",
    "import xarray as xr\n",
    "import geopandas as gpd\n",
    "from odc.geo.xr import assign_crs\n",
    "import matplotlib.pyplot as plt\n",
    "from odc.geo.geom import Geometry\n",
    "from odc.algo import geomedian_with_mads\n",
    "\n",
    "import sys\n",
    "sys.path.insert(1, '/home/jovyan/git/dea-notebooks/Tools/')\n",
    "from dea_tools.datahandling import load_ard\n",
    "from dea_tools.dask import create_local_dask_cluster\n",
    "from dea_tools.plotting import rgb\n",
    "\n",
    "warnings.filterwarnings(\"ignore\")"
   ]
  },
  {
   "cell_type": "code",
   "execution_count": null,
   "id": "a0a9761c-e2fa-440d-9552-e14d372dfc3a",
   "metadata": {},
   "outputs": [],
   "source": [
    "client = create_local_dask_cluster(return_client=True)"
   ]
  },
  {
   "cell_type": "markdown",
   "id": "efc89342-cd9a-4fef-8951-5fec1dd118d3",
   "metadata": {},
   "source": [
    "## Analysis Parameters"
   ]
  },
  {
   "cell_type": "code",
   "execution_count": null,
   "id": "870fdcaa-7010-4e0b-88d6-6e8583e22683",
   "metadata": {},
   "outputs": [],
   "source": [
    "# region_code = 'x43y14' # se aus forests Alps.\n",
    "# region_code = 'x39y09' # West tassie\n",
    "# region_code = 'x33y26' # Central Aus with salt lakes\n",
    "# region_code = 'x31y43' # Tropical NT\n",
    "# region_code = 'x19y18' # Esperance crops and sand dunes\n",
    "# region_code = 'x42y38' # Qld tropical forests\n",
    "# region_code = 'x39y13' # Melbourne city and bay+crops\n",
    "# region_code = 'x12y19' # Perth City\n",
    "# region_code = 'x41y12' # Complex coastal in Vic.\n",
    "\n",
    "region_codes = ['x43y14','x39y09','x33y26','x31y43','x19y18','x42y38','x39y13','x12y19','x41y12']\n",
    "\n",
    "time='2022'\n",
    "resolution=(-10,10)\n",
    "mask_filters = [(\"opening\", 3), (\"dilation\", 6)]\n",
    "filters_id = '3_6'\n",
    "measurements=['nbart_green', 'nbart_red', 'nbart_blue']\n",
    "dask_chunks = dict(x=1000, y=1000)"
   ]
  },
  {
   "cell_type": "markdown",
   "id": "d67f472a-a763-4626-8716-02f5dddd9150",
   "metadata": {},
   "source": [
    "## Set up dc query"
   ]
  },
  {
   "cell_type": "code",
   "execution_count": null,
   "id": "35526ebf-8f38-44e4-8a96-744a1f0beae8",
   "metadata": {},
   "outputs": [],
   "source": [
    "#connect to dc\n",
    "dc = datacube.Datacube(app='s2_gm_test')\n",
    "\n",
    "# Create a reusable query\n",
    "query = {\n",
    "    'time': time,\n",
    "    \"measurements\": measurements,\n",
    "    'resolution': resolution,\n",
    "    'dask_chunks' : dask_chunks,\n",
    "    'group_by': 'solar_day',\n",
    "    'output_crs': 'EPSG:3577',\n",
    "}"
   ]
  },
  {
   "cell_type": "markdown",
   "id": "220acf87-b31b-4597-bc4b-79fb74a664b2",
   "metadata": {},
   "source": [
    "## Open tiles and select"
   ]
  },
  {
   "cell_type": "code",
   "execution_count": null,
   "id": "10f3bdee-0467-4103-b500-46ffe2bcf708",
   "metadata": {},
   "outputs": [],
   "source": [
    "gdf = gpd.read_file('~/gdata1/data/albers_grids/ga_summary_grid_c3.geojson')\n",
    "\n",
    "gdf = gdf[gdf['region_code'].isin(region_codes)]"
   ]
  },
  {
   "cell_type": "code",
   "execution_count": null,
   "id": "be8ad953-0fe5-44b7-97bb-2b380f50036c",
   "metadata": {},
   "outputs": [],
   "source": [
    "# gdf.explore(\n",
    "#         tiles = 'https://server.arcgisonline.com/ArcGIS/rest/services/World_Imagery/MapServer/tile/{z}/{y}/{x}',\n",
    "#         attr = 'Esri',\n",
    "#         name = 'Esri Satellite',\n",
    "# )"
   ]
  },
  {
   "cell_type": "markdown",
   "id": "877d3518-aa1d-4ac2-8259-e7a84f95b06e",
   "metadata": {},
   "source": [
    "## Run function for geomedians"
   ]
  },
  {
   "cell_type": "code",
   "execution_count": null,
   "id": "f2cd0671-5b14-4e64-9635-d1069cd722d4",
   "metadata": {},
   "outputs": [],
   "source": [
    "def gm_run_function(dc, geom, query, time, region_code, filters_id):\n",
    "    \"\"\"\n",
    "    \n",
    "    \"\"\"\n",
    "        \n",
    "    # Update the query to include our geopolygon\n",
    "    query.update({'geopolygon': geom}) \n",
    "\n",
    "    # Load available data from Sentinel 2 satellites\n",
    "    s2_fmask = load_ard(dc=dc,\n",
    "                     products=['ga_s2am_ard_3', 'ga_s2bm_ard_3', 'ga_s2cm_ard_3'],\n",
    "                     resampling={\"oa_fmask\": \"nearest\", \"*\": \"cubic\"},\n",
    "                     mask_filters=mask_filters,\n",
    "                     verbose=False,\n",
    "                     mask_contiguity=True,\n",
    "                     skip_broken_datasets=True,\n",
    "                     **query\n",
    "                    )\n",
    "    \n",
    "    s2_cloudless = load_ard(dc=dc,\n",
    "                 products=['ga_s2am_ard_3', 'ga_s2bm_ard_3', 'ga_s2cm_ard_3'],\n",
    "                 cloud_mask='s2cloudless',\n",
    "                 resampling={\"oa_s2cloudless_mask\": \"nearest\", \"*\": \"cubic\"},\n",
    "                 verbose=False,\n",
    "                 mask_contiguity=True,\n",
    "                 skip_broken_datasets=True,\n",
    "                 **query\n",
    "                )\n",
    "\n",
    "    # s2_cloudless = s2_cloudless.isel(time=range(0,10))\n",
    "    # s2_fmask = s2_fmask.isel(time=range(0,10))\n",
    "    \n",
    "    # ---geomedians----------------------\n",
    "    # ---------------Fmask-\n",
    "    s2_fmask_gm = geomedian_with_mads(\n",
    "        s2_fmask,\n",
    "        reshape_strategy='mem',\n",
    "        compute_mads=False\n",
    "    )\n",
    "    s2_fmask_gm = assign_crs(s2_fmask_gm.load(), crs='EPSG:4326')\n",
    "    \n",
    "    #export\n",
    "    tiles_folder = f'/gdata1/projects/s2_gm/results/tiles/{filters_id}/'\n",
    "    if not os.path.exists(tiles_folder):\n",
    "        os.makedirs(tiles_folder)\n",
    "        \n",
    "    for var in s2_fmask_gm.data_vars:\n",
    "        try:\n",
    "            del s2_fmask_gm[var].attrs['grid_mapping']\n",
    "        except:\n",
    "            pass\n",
    "    s2_fmask_gm[['nbart_red', 'nbart_green', 'nbart_blue','count']].to_netcdf(f'/gdata1/projects/s2_gm/results/tiles/{filters_id}/s2_gm_annual_fmask_{time}_{region_code}.nc')\n",
    "\n",
    "     # ---------------S2 Cloudless-----\n",
    "    s2_cloudless_gm = geomedian_with_mads(\n",
    "        s2_cloudless,\n",
    "        reshape_strategy='mem',\n",
    "        compute_mads=False\n",
    "    )\n",
    "    s2_cloudless_gm = assign_crs(s2_cloudless_gm.load(), crs='EPSG:4326')\n",
    "    \n",
    "    for var in s2_cloudless_gm.data_vars:\n",
    "        try:\n",
    "            del s2_cloudless_gm[var].attrs['grid_mapping']\n",
    "        except:\n",
    "            pass\n",
    "    s2_cloudless_gm[['nbart_red', 'nbart_green', 'nbart_blue', 'count']].to_netcdf(f'/gdata1/projects/s2_gm/results/tiles/{filters_id}/s2_gm_annual_s2cloudless_{time}_{region_code}.nc')\n",
    "    \n",
    "\n",
    "    #------------plot-----------------------\n",
    "    fig, ax = plt.subplots(1,3, figsize=(20,6), layout='constrained')\n",
    "    \n",
    "    s2_cloudless_gm[['nbart_red', 'nbart_green', 'nbart_blue']].to_array().plot.imshow(robust=True, ax=ax[0], add_labels=False)\n",
    "    s2_fmask_gm[['nbart_red', 'nbart_green', 'nbart_blue']].to_array().plot.imshow(robust=True, ax=ax[1], add_labels=False)\n",
    "    s2_fmask_gm['count'].plot.imshow(robust=True, ax=ax[2], add_labels=False)\n",
    "\n",
    "    ax[0].set_title(f'S2 annual GM, s2cloudless, {time}, {region_code}')\n",
    "    ax[1].set_title(f'S2 annual GM, fmask, {time}, {region_code}')\n",
    "    ax[2].set_title(f'fmask count, {time}, {region_code}')\n",
    "    \n",
    "    ax[0].set_yticklabels([])\n",
    "    ax[0].set_xticklabels([])\n",
    "    ax[1].set_yticklabels([])\n",
    "    ax[1].set_xticklabels([])\n",
    "    ax[2].set_yticklabels([])\n",
    "    ax[2].set_xticklabels([]);\n",
    "\n",
    "    figs_folder = f'/gdata1/projects/s2_gm/results/figs/{filters_id}/'\n",
    "    if not os.path.exists(figs_folder):\n",
    "        os.makedirs(figs_folder)\n",
    "    \n",
    "    plt.savefig(f'/gdata1/projects/s2_gm/results/figs/{filters_id}/s2_gm_annual_{time}_{region_code}.png', bbox_inches='tight', dpi=300)"
   ]
  },
  {
   "cell_type": "markdown",
   "id": "293b8c8f-5582-41b0-b363-ea29c327c943",
   "metadata": {},
   "source": [
    "## Loop through tiles and export images\n"
   ]
  },
  {
   "cell_type": "code",
   "execution_count": null,
   "id": "4c6e7ef0-e8c1-42cb-9477-633626369dc8",
   "metadata": {},
   "outputs": [],
   "source": [
    "# Loop through polygons in geodataframe and extract satellite data\n",
    "i=0\n",
    "for index, row in gdf.iterrows():\n",
    "    print(f'Feature: {i + 1}/{len(gdf)}')\n",
    "\n",
    "    geom = Geometry(geom=row.geometry, crs=gdf.crs)\n",
    "    \n",
    "    gm_run_function(dc, geom, query, time, row['region_code'], filters_id)\n",
    "    i+=1"
   ]
  },
  {
   "cell_type": "code",
   "execution_count": null,
   "id": "10dcafc1-a2ba-41d1-b57a-af717c662406",
   "metadata": {},
   "outputs": [],
   "source": []
  }
 ],
 "metadata": {
  "kernelspec": {
   "display_name": "Python 3 (ipykernel)",
   "language": "python",
   "name": "python3"
  },
  "language_info": {
   "codemirror_mode": {
    "name": "ipython",
    "version": 3
   },
   "file_extension": ".py",
   "mimetype": "text/x-python",
   "name": "python",
   "nbconvert_exporter": "python",
   "pygments_lexer": "ipython3",
   "version": "3.10.15"
  }
 },
 "nbformat": 4,
 "nbformat_minor": 5
}
